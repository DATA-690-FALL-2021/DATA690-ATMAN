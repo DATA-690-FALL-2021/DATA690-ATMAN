{
  "nbformat": 4,
  "nbformat_minor": 0,
  "metadata": {
    "colab": {
      "name": "assignment_03.ipynb",
      "provenance": [],
      "authorship_tag": "ABX9TyM6M6AKoUauqq02jS7vRrT4",
      "include_colab_link": true
    },
    "kernelspec": {
      "name": "python3",
      "display_name": "Python 3"
    },
    "language_info": {
      "name": "python"
    }
  },
  "cells": [
    {
      "cell_type": "markdown",
      "metadata": {
        "id": "view-in-github",
        "colab_type": "text"
      },
      "source": [
        "<a href=\"https://colab.research.google.com/github/kq49539/DATA690-ATMAN/blob/main/assignment_03/assignment_03.ipynb\" target=\"_parent\"><img src=\"https://colab.research.google.com/assets/colab-badge.svg\" alt=\"Open In Colab\"/></a>"
      ]
    },
    {
      "cell_type": "markdown",
      "metadata": {
        "id": "2x1K9aop_Q4W"
      },
      "source": [
        "##1. Program that generates 100 random integers between 0-9."
      ]
    },
    {
      "cell_type": "code",
      "metadata": {
        "colab": {
          "base_uri": "https://localhost:8080/"
        },
        "id": "gnQyrRYANvt-",
        "outputId": "60fade73-9414-4831-ffac-e0d437796c5a"
      },
      "source": [
        "import random\n",
        "r = int(input(\"enter number of rows:\"))\n",
        "c = int(input(\"enter number of columns:\"))\n",
        "matrix=[]\n",
        "for i in range(r):\n",
        "  a=[]\n",
        "  for j in range(c):\n",
        "    matrix.append(a)\n",
        "    print(random.randint(0,9), end=' ')\n",
        "  print('\\n')"
      ],
      "execution_count": 58,
      "outputs": [
        {
          "output_type": "stream",
          "name": "stdout",
          "text": [
            "enter number of rows:10\n",
            "enter number of columns:10\n",
            "3 5 2 3 5 3 1 0 7 5 \n",
            "\n",
            "1 1 5 3 6 7 8 7 6 7 \n",
            "\n",
            "7 6 8 8 7 1 9 9 2 6 \n",
            "\n",
            "6 6 3 4 0 1 8 8 9 3 \n",
            "\n",
            "5 2 2 3 5 7 8 9 0 8 \n",
            "\n",
            "4 3 1 9 8 4 9 2 2 0 \n",
            "\n",
            "4 3 0 9 9 9 0 9 6 8 \n",
            "\n",
            "9 6 9 9 3 7 2 7 2 1 \n",
            "\n",
            "4 4 7 1 9 9 7 9 1 8 \n",
            "\n",
            "3 1 7 8 8 5 2 5 9 2 \n",
            "\n"
          ]
        }
      ]
    },
    {
      "cell_type": "markdown",
      "metadata": {
        "id": "crKtE3IPqfW3"
      },
      "source": [
        "##2. If Random number is odd then print \"@\"."
      ]
    },
    {
      "cell_type": "code",
      "metadata": {
        "colab": {
          "base_uri": "https://localhost:8080/"
        },
        "id": "Gg5U9olH6y9J",
        "outputId": "0b2bfd1e-68cf-4585-cce1-e7a350ddb2e7"
      },
      "source": [
        "import random\n",
        "r = int(input(\"enter number of rows:\"))\n",
        "c = int(input(\"enter number of columns:\"))\n",
        "matrix=[]\n",
        "for i in range(r):\n",
        "  a=[]\n",
        "  for j in range(c):\n",
        "    matrix.append(a)\n",
        "    number = random.randint(0,9)\n",
        "    if number % 2 == 0:\n",
        "      print(number, end='  ')\n",
        "    else:\n",
        "      print('@', end='  ')\n",
        "  print('\\n')"
      ],
      "execution_count": 75,
      "outputs": [
        {
          "output_type": "stream",
          "name": "stdout",
          "text": [
            "enter number of rows:10\n",
            "enter number of columns:10\n",
            "8  0  @  0  @  @  @  @  @  0  \n",
            "\n",
            "@  @  @  @  0  2  @  @  0  0  \n",
            "\n",
            "6  0  @  @  @  @  6  @  @  0  \n",
            "\n",
            "@  @  @  @  @  0  @  8  @  @  \n",
            "\n",
            "@  @  6  @  @  2  0  6  2  4  \n",
            "\n",
            "6  6  6  @  6  @  2  2  6  @  \n",
            "\n",
            "2  @  @  6  @  6  @  8  8  @  \n",
            "\n",
            "@  2  @  @  0  8  @  4  @  @  \n",
            "\n",
            "@  8  4  @  @  @  2  @  @  2  \n",
            "\n",
            "@  2  @  4  @  @  0  4  @  6  \n",
            "\n"
          ]
        }
      ]
    },
    {
      "cell_type": "markdown",
      "metadata": {
        "id": "Fbkphvu4rEWf"
      },
      "source": [
        "##3. Calculate total for each row."
      ]
    },
    {
      "cell_type": "code",
      "metadata": {
        "colab": {
          "base_uri": "https://localhost:8080/"
        },
        "id": "NDU1E2eD3lK9",
        "outputId": "b0355746-336d-4457-87a5-d47cfb66e8e7"
      },
      "source": [
        "import random\n",
        "r = int(input(\"enter number of rows:\"))\n",
        "c = int(input(\"enter number of columns:\"))\n",
        "matrix=[]\n",
        "number=[]\n",
        "for i in range(r):\n",
        "  total=01\n",
        "  for j in range(c):\n",
        "    number = random.randint(0,9)  \n",
        "    total = total + number\n",
        "    print(number, end=' ')\n",
        "  print(' * ', str(total))\n",
        "   "
      ],
      "execution_count": 136,
      "outputs": [
        {
          "output_type": "stream",
          "name": "stdout",
          "text": [
            "enter number of rows:10\n",
            "enter number of columns:10\n",
            "3 6 1 5 4 5 0 5 5 2  *  36\n",
            "6 8 3 1 2 2 2 0 2 6  *  32\n",
            "9 7 3 1 5 2 1 5 8 0  *  41\n",
            "5 2 8 4 3 7 5 3 3 9  *  49\n",
            "8 0 3 5 7 5 7 2 6 9  *  52\n",
            "2 6 0 8 5 9 8 8 4 3  *  53\n",
            "6 6 2 9 6 1 6 0 1 4  *  41\n",
            "0 7 6 1 4 5 5 4 8 3  *  43\n",
            "5 3 4 7 5 5 7 9 0 6  *  51\n",
            "6 7 5 8 3 1 2 4 9 7  *  52\n"
          ]
        }
      ]
    }
  ]
}