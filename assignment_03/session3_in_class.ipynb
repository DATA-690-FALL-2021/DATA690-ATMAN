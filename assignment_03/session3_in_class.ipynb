{
  "nbformat": 4,
  "nbformat_minor": 0,
  "metadata": {
    "colab": {
      "name": "session3_in_class.ipynb",
      "provenance": [],
      "authorship_tag": "ABX9TyMMVgSuFMMx2SIcO8YV92Fc",
      "include_colab_link": true
    },
    "kernelspec": {
      "name": "python3",
      "display_name": "Python 3"
    },
    "language_info": {
      "name": "python"
    }
  },
  "cells": [
    {
      "cell_type": "markdown",
      "metadata": {
        "id": "view-in-github",
        "colab_type": "text"
      },
      "source": [
        "<a href=\"https://colab.research.google.com/github/kq49539/DATA690-ATMAN/blob/main/assignment_03/session3_in_class.ipynb\" target=\"_parent\"><img src=\"https://colab.research.google.com/assets/colab-badge.svg\" alt=\"Open In Colab\"/></a>"
      ]
    },
    {
      "cell_type": "markdown",
      "metadata": {
        "id": "08-E9N4t0uiR"
      },
      "source": [
        "## session 3 in classs practice\n",
        "- Atman Patel\n",
        "- September 16"
      ]
    },
    {
      "cell_type": "markdown",
      "metadata": {
        "id": "gwghgGx49Alg"
      },
      "source": [
        "##1. List Comphrehension"
      ]
    },
    {
      "cell_type": "code",
      "metadata": {
        "colab": {
          "base_uri": "https://localhost:8080/"
        },
        "id": "Hm4Ysj_40m9v",
        "outputId": "39778f0c-7284-4513-bdd8-2f01f1da5d6d"
      },
      "source": [
        "# This is traditional way of using for loop\n",
        "x = [2, 5, -7, 10, 12]\n",
        "\n",
        "y =[]  # []bracket indicates list\n",
        "\n",
        "for i in x:\n",
        "  new_number = i + 10\n",
        "  print(new_number)\n",
        "  y.append(new_number)\n",
        "\n",
        "print(y) "
      ],
      "execution_count": 11,
      "outputs": [
        {
          "output_type": "stream",
          "name": "stdout",
          "text": [
            "12\n",
            "15\n",
            "3\n",
            "20\n",
            "22\n",
            "[12, 15, 3, 20, 22]\n"
          ]
        }
      ]
    },
    {
      "cell_type": "code",
      "metadata": {
        "colab": {
          "base_uri": "https://localhost:8080/"
        },
        "id": "3s9T6ZeI-Xxf",
        "outputId": "137dcdb2-c9d8-4136-cb7e-b9d97b1757f8"
      },
      "source": [
        "# A new way of using List Comprehension\n",
        "\n",
        "y = [i + 10 for i in x]\n",
        "\n",
        "print(y)"
      ],
      "execution_count": 12,
      "outputs": [
        {
          "output_type": "stream",
          "name": "stdout",
          "text": [
            "[12, 15, 3, 20, 22]\n"
          ]
        }
      ]
    },
    {
      "cell_type": "markdown",
      "metadata": {
        "id": "-3rAcGem-xH-"
      },
      "source": [
        "##2. User-defined Function"
      ]
    },
    {
      "cell_type": "code",
      "metadata": {
        "id": "2ykKL9Lj-5Zi"
      },
      "source": [
        "## Addition function\n",
        "\n",
        "def addition(a, b):\n",
        "  return a + b"
      ],
      "execution_count": 15,
      "outputs": []
    },
    {
      "cell_type": "code",
      "metadata": {
        "colab": {
          "base_uri": "https://localhost:8080/"
        },
        "id": "_tsbFOfc_vKo",
        "outputId": "aa402b44-78a6-4d53-e961-5861408fb2c0"
      },
      "source": [
        "y = addition(5, 10)\n",
        "print(y)"
      ],
      "execution_count": 17,
      "outputs": [
        {
          "output_type": "stream",
          "name": "stdout",
          "text": [
            "15\n"
          ]
        }
      ]
    },
    {
      "cell_type": "code",
      "metadata": {
        "id": "k70KIDxy_5Ci"
      },
      "source": [
        "## division function\n",
        "\n",
        "def division(a,b):\n",
        " return a/b"
      ],
      "execution_count": 27,
      "outputs": []
    },
    {
      "cell_type": "code",
      "metadata": {
        "colab": {
          "base_uri": "https://localhost:8080/"
        },
        "id": "LWgpLBGsAkQc",
        "outputId": "fec1a202-0667-421f-e349-0e63ece2351c"
      },
      "source": [
        "y = division(101,2)\n",
        "print(y)"
      ],
      "execution_count": 29,
      "outputs": [
        {
          "output_type": "stream",
          "name": "stdout",
          "text": [
            "50.5\n"
          ]
        }
      ]
    }
  ]
}