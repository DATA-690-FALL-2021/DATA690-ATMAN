{
  "nbformat": 4,
  "nbformat_minor": 0,
  "metadata": {
    "colab": {
      "name": "assignment_04_PartA.ipynb",
      "provenance": [],
      "collapsed_sections": [],
      "authorship_tag": "ABX9TyOUXjnvJRxsz49PHrVW5sOD",
      "include_colab_link": true
    },
    "kernelspec": {
      "name": "python3",
      "display_name": "Python 3"
    },
    "language_info": {
      "name": "python"
    }
  },
  "cells": [
    {
      "cell_type": "markdown",
      "metadata": {
        "id": "view-in-github",
        "colab_type": "text"
      },
      "source": [
        "<a href=\"https://colab.research.google.com/github/kq49539/DATA690-ATMAN/blob/main/assignment_04/assignment_04_PartA.ipynb\" target=\"_parent\"><img src=\"https://colab.research.google.com/assets/colab-badge.svg\" alt=\"Open In Colab\"/></a>"
      ]
    },
    {
      "cell_type": "markdown",
      "metadata": {
        "id": "hTNP7YDH1RWa"
      },
      "source": [
        "##1. Write code to open the text file census_costs.txt and read all lines into a list named \"line_list\". Print line_list."
      ]
    },
    {
      "cell_type": "code",
      "metadata": {
        "colab": {
          "base_uri": "https://localhost:8080/"
        },
        "id": "xae8yd7vz8bl",
        "outputId": "2317bef9-de89-4afd-ab68-706cd4a54ecd"
      },
      "source": [
        "with open(\"/content/census_cost.txt\",\"r\") as f:\n",
        "    line_list = f.readlines()\n",
        "\n",
        "print(line_list)"
      ],
      "execution_count": 56,
      "outputs": [
        {
          "output_type": "stream",
          "name": "stdout",
          "text": [
            "['Census Year\\tTotal Population\\tCensus Cost\\tAverage Cost Per Person\\n', '1790\\t3,929,214\\t$44,377\\t1.13 cents\\n', '1800\\t5,308,483\\t$66,109\\t1.24 cents\\n', '1810\\t7,239,881\\t$178,445\\t2.46 cents\\n', '1820\\t9,633,822\\t$208,526\\t2.16 cents\\n', '1830\\t12,866,020\\t$378,545\\t2.94 cents\\n', '1840\\t17,069,458\\t$833,371\\t4.88 cents\\n', '1850\\t23,191,876\\t$1,423,351\\t6.14 cents\\n', '1860\\t31,443,321\\t$1,969,377\\t6.26 cents\\n', '1870\\t38,558,371\\t$3,421,198\\t8.87 cents\\n', '1880\\t50,155,783\\t$5,790,678\\t11.54 cents\\n', '1890\\t62,979,766\\t$11,547,127\\t18.33 cents\\n', '1900\\t76,303,387\\t$11,854,000\\t15.54 cents\\n', '1910\\t91,972,266\\t$15,968,000\\t17.07 cents\\n', '1920\\t105,710,620\\t$25,117,000\\t23.76 cents\\n', '1930\\t122,775,046\\t$40,156,000\\t32.71 cents\\n', '1940\\t131,669,275\\t$67,527,000\\t51.29 cents\\n', '1950\\t151,325,798\\t$91,462,000\\t60.44 cents\\n', '1960\\t179,323,175\\t$127,934,000\\t71.34 cents\\n', '1970\\t203,302,031\\t$247,653,000\\t$1.22\\n', '1980\\t226,542,199\\t$1,078,488,000\\t$4.76\\n', '1990\\t248,718,301\\t$2,492,830,000\\t$10.02\\n', '2000\\t281,421,906\\t$4.5 Billion\\t$15.99\\n', '2010*\\t308,745,538\\t$13 Billion\\t$42.11']\n"
          ]
        }
      ]
    },
    {
      "cell_type": "code",
      "metadata": {
        "colab": {
          "base_uri": "https://localhost:8080/"
        },
        "id": "xlI0tuaX3E8K",
        "outputId": "0cc5900d-dee2-4acf-fe2c-86ab915dd4d6"
      },
      "source": [
        "len(line_list)"
      ],
      "execution_count": 57,
      "outputs": [
        {
          "output_type": "execute_result",
          "data": {
            "text/plain": [
              "24"
            ]
          },
          "metadata": {},
          "execution_count": 57
        }
      ]
    },
    {
      "cell_type": "markdown",
      "metadata": {
        "id": "AELdoYNO1hPK"
      },
      "source": [
        "##2. Extract the first two lines and put them in a different list named \"top2_list\". You will need to use them later. Print the top2_list."
      ]
    },
    {
      "cell_type": "code",
      "metadata": {
        "colab": {
          "base_uri": "https://localhost:8080/"
        },
        "id": "td0icLHL1O2R",
        "outputId": "76b35eaa-b023-49a2-c71c-7f42633097b2"
      },
      "source": [
        "top2_list=[]\n",
        "top2_list.append(line_list[0])\n",
        "top2_list.append(line_list[1])\n",
        "print(top2_list)"
      ],
      "execution_count": 58,
      "outputs": [
        {
          "output_type": "stream",
          "name": "stdout",
          "text": [
            "['Census Year\\tTotal Population\\tCensus Cost\\tAverage Cost Per Person\\n', '1790\\t3,929,214\\t$44,377\\t1.13 cents\\n']\n"
          ]
        }
      ]
    },
    {
      "cell_type": "markdown",
      "metadata": {
        "id": "TYxaKPVK2p-l"
      },
      "source": [
        "##3. Put the rest of the lines (containing useful data elements) in a new list named \"data_list\". Print data_list."
      ]
    },
    {
      "cell_type": "code",
      "metadata": {
        "colab": {
          "base_uri": "https://localhost:8080/"
        },
        "id": "yEHtv8Qa2x5R",
        "outputId": "318b2062-c674-4524-d955-50ae85704264"
      },
      "source": [
        "data_list=[]\n",
        "for i in range(2,24):\n",
        "    data_list.append(line_list[i])\n",
        "\n",
        "print(data_list,\"/n\")"
      ],
      "execution_count": 61,
      "outputs": [
        {
          "output_type": "stream",
          "name": "stdout",
          "text": [
            "['1800\\t5,308,483\\t$66,109\\t1.24 cents\\n', '1810\\t7,239,881\\t$178,445\\t2.46 cents\\n', '1820\\t9,633,822\\t$208,526\\t2.16 cents\\n', '1830\\t12,866,020\\t$378,545\\t2.94 cents\\n', '1840\\t17,069,458\\t$833,371\\t4.88 cents\\n', '1850\\t23,191,876\\t$1,423,351\\t6.14 cents\\n', '1860\\t31,443,321\\t$1,969,377\\t6.26 cents\\n', '1870\\t38,558,371\\t$3,421,198\\t8.87 cents\\n', '1880\\t50,155,783\\t$5,790,678\\t11.54 cents\\n', '1890\\t62,979,766\\t$11,547,127\\t18.33 cents\\n', '1900\\t76,303,387\\t$11,854,000\\t15.54 cents\\n', '1910\\t91,972,266\\t$15,968,000\\t17.07 cents\\n', '1920\\t105,710,620\\t$25,117,000\\t23.76 cents\\n', '1930\\t122,775,046\\t$40,156,000\\t32.71 cents\\n', '1940\\t131,669,275\\t$67,527,000\\t51.29 cents\\n', '1950\\t151,325,798\\t$91,462,000\\t60.44 cents\\n', '1960\\t179,323,175\\t$127,934,000\\t71.34 cents\\n', '1970\\t203,302,031\\t$247,653,000\\t$1.22\\n', '1980\\t226,542,199\\t$1,078,488,000\\t$4.76\\n', '1990\\t248,718,301\\t$2,492,830,000\\t$10.02\\n', '2000\\t281,421,906\\t$4.5 Billion\\t$15.99\\n', '2010*\\t308,745,538\\t$13 Billion\\t$42.11'] /n\n"
          ]
        }
      ]
    },
    {
      "cell_type": "markdown",
      "metadata": {
        "id": "2L2J6Kb23d6i"
      },
      "source": [
        "##4. Extract the column \"Census Year\" from data_list and assign them to a list named year_list. Remove the \"\" from the last element \"2010\". Print the cleansed year_list."
      ]
    },
    {
      "cell_type": "code",
      "metadata": {
        "colab": {
          "base_uri": "https://localhost:8080/"
        },
        "id": "waQUWjqA3h0D",
        "outputId": "76854e42-0904-43ce-e6d4-27968231e9a6"
      },
      "source": [
        "year_list = []\n",
        "\n",
        "for i in data_list:\n",
        "    col = i.split(\"\\t\")\n",
        "    year_list.append((col[0]).replace(\"*\",''))\n",
        "    print(year_list)"
      ],
      "execution_count": 102,
      "outputs": [
        {
          "output_type": "stream",
          "name": "stdout",
          "text": [
            "['1800']\n",
            "['1800', '1810']\n",
            "['1800', '1810', '1820']\n",
            "['1800', '1810', '1820', '1830']\n",
            "['1800', '1810', '1820', '1830', '1840']\n",
            "['1800', '1810', '1820', '1830', '1840', '1850']\n",
            "['1800', '1810', '1820', '1830', '1840', '1850', '1860']\n",
            "['1800', '1810', '1820', '1830', '1840', '1850', '1860', '1870']\n",
            "['1800', '1810', '1820', '1830', '1840', '1850', '1860', '1870', '1880']\n",
            "['1800', '1810', '1820', '1830', '1840', '1850', '1860', '1870', '1880', '1890']\n",
            "['1800', '1810', '1820', '1830', '1840', '1850', '1860', '1870', '1880', '1890', '1900']\n",
            "['1800', '1810', '1820', '1830', '1840', '1850', '1860', '1870', '1880', '1890', '1900', '1910']\n",
            "['1800', '1810', '1820', '1830', '1840', '1850', '1860', '1870', '1880', '1890', '1900', '1910', '1920']\n",
            "['1800', '1810', '1820', '1830', '1840', '1850', '1860', '1870', '1880', '1890', '1900', '1910', '1920', '1930']\n",
            "['1800', '1810', '1820', '1830', '1840', '1850', '1860', '1870', '1880', '1890', '1900', '1910', '1920', '1930', '1940']\n",
            "['1800', '1810', '1820', '1830', '1840', '1850', '1860', '1870', '1880', '1890', '1900', '1910', '1920', '1930', '1940', '1950']\n",
            "['1800', '1810', '1820', '1830', '1840', '1850', '1860', '1870', '1880', '1890', '1900', '1910', '1920', '1930', '1940', '1950', '1960']\n",
            "['1800', '1810', '1820', '1830', '1840', '1850', '1860', '1870', '1880', '1890', '1900', '1910', '1920', '1930', '1940', '1950', '1960', '1970']\n",
            "['1800', '1810', '1820', '1830', '1840', '1850', '1860', '1870', '1880', '1890', '1900', '1910', '1920', '1930', '1940', '1950', '1960', '1970', '1980']\n",
            "['1800', '1810', '1820', '1830', '1840', '1850', '1860', '1870', '1880', '1890', '1900', '1910', '1920', '1930', '1940', '1950', '1960', '1970', '1980', '1990']\n",
            "['1800', '1810', '1820', '1830', '1840', '1850', '1860', '1870', '1880', '1890', '1900', '1910', '1920', '1930', '1940', '1950', '1960', '1970', '1980', '1990', '2000']\n",
            "['1800', '1810', '1820', '1830', '1840', '1850', '1860', '1870', '1880', '1890', '1900', '1910', '1920', '1930', '1940', '1950', '1960', '1970', '1980', '1990', '2000', '2010']\n"
          ]
        }
      ]
    },
    {
      "cell_type": "markdown",
      "metadata": {
        "id": "hDAMBve77o2m"
      },
      "source": [
        "##3. Extract the \"Total Population\" column from the data_list and assign them to a list named \"pop_list\". Remove the \",\" from the numbers since Python doesn't recognize them. Print the cleansed \"pop_list\"."
      ]
    },
    {
      "cell_type": "code",
      "metadata": {
        "colab": {
          "base_uri": "https://localhost:8080/"
        },
        "id": "Q1XhH35_7vCJ",
        "outputId": "ec345319-520d-4231-8a3c-3ab408f2a015"
      },
      "source": [
        "pop_list=[]\n",
        "\n",
        "for i in data_list:\n",
        "    col=i.split(\"\\t\")\n",
        "    pop_list.append((col[1]).replace(\",\",\"\"))\n",
        "   \n",
        "print(pop_list)"
      ],
      "execution_count": 104,
      "outputs": [
        {
          "output_type": "stream",
          "name": "stdout",
          "text": [
            "['5308483', '7239881', '9633822', '12866020', '17069458', '23191876', '31443321', '38558371', '50155783', '62979766', '76303387', '91972266', '105710620', '122775046', '131669275', '151325798', '179323175', '203302031', '226542199', '248718301', '281421906', '308745538']\n"
          ]
        }
      ]
    },
    {
      "cell_type": "markdown",
      "metadata": {
        "id": "G0C3dd848Lnb"
      },
      "source": [
        "##6. Extract the \"Census Cost\" column from the data_list and assign them to a list named \"cost_list\". Remove the \",\", and \"$\", and \"Billion\". Make sure to add the \"0\"s to the numbers from which you removed \"Billion\". Print the cleansed cost_list."
      ]
    },
    {
      "cell_type": "code",
      "metadata": {
        "colab": {
          "base_uri": "https://localhost:8080/"
        },
        "id": "UFmDf7tJ8Tc7",
        "outputId": "baabd005-4e4e-4cce-d47d-f2f9413ce2e3"
      },
      "source": [
        "cost_list=[]\n",
        "\n",
        "for i in data_list:\n",
        "  col=i.split(\"\\t\")\n",
        "  cost_list.append((col[2]).replace(\"$\",\"\").replace(\",\",\"\").replace(\"Billion\",\"000000000\"))\n",
        "print(cost_list)"
      ],
      "execution_count": 105,
      "outputs": [
        {
          "output_type": "stream",
          "name": "stdout",
          "text": [
            "['66109', '178445', '208526', '378545', '833371', '1423351', '1969377', '3421198', '5790678', '11547127', '11854000', '15968000', '25117000', '40156000', '67527000', '91462000', '127934000', '247653000', '1078488000', '2492830000', '4.5 000000000', '13 000000000']\n"
          ]
        }
      ]
    },
    {
      "cell_type": "markdown",
      "metadata": {
        "id": "MJr1PsAq8RyT"
      },
      "source": [
        "##7. Extract the \"Average Cost per Person\" column from the data_list and assign them to a list named \"avg_list\". Remove the \"cents\", and \"$\". Make sure to divide the numbers in cents by 100 so that all numbers are measured in dollar. Print the cleansed avg_list."
      ]
    },
    {
      "cell_type": "code",
      "metadata": {
        "colab": {
          "base_uri": "https://localhost:8080/"
        },
        "id": "P-TGuyu38yNZ",
        "outputId": "f61ed179-22f0-481d-e3c1-62d9e5866f72"
      },
      "source": [
        "avg_list=[]\n",
        "\n",
        "for i in data_list:\n",
        "  col=i.split(\"\\t\")\n",
        "  col[3]=col[3].replace(\"cents\",\"\").replace(\"$\",\"\").replace(\"\\n\",\"\")\n",
        "  avg_list.append(str(float(col[3])/100))\n",
        "\n",
        "print(avg_list)"
      ],
      "execution_count": 107,
      "outputs": [
        {
          "output_type": "stream",
          "name": "stdout",
          "text": [
            "['0.0124', '0.0246', '0.0216', '0.0294', '0.048799999999999996', '0.061399999999999996', '0.0626', '0.08869999999999999', '0.11539999999999999', '0.1833', '0.15539999999999998', '0.1707', '0.2376', '0.3271', '0.5129', '0.6043999999999999', '0.7134', '0.012199999999999999', '0.047599999999999996', '0.1002', '0.15990000000000001', '0.4211']\n"
          ]
        }
      ]
    },
    {
      "cell_type": "markdown",
      "metadata": {
        "id": "oz5M2Pgv9Q2a"
      },
      "source": [
        "##8. Coalesce the cleansed data and save them to a text file named \"census_cost.csv\". The new file should look similar to the original source file except that it is in comma-delimited format and the numbers have been cleansed. The top two lines from the original file should be retained in the new file."
      ]
    },
    {
      "cell_type": "code",
      "metadata": {
        "colab": {
          "base_uri": "https://localhost:8080/"
        },
        "id": "6PHj3vdj9Qd1",
        "outputId": "e6a045a9-8ce1-400b-946f-c32ab5239e59"
      },
      "source": [
        "final_list=[]\n",
        "final_list.append(top2_list[0])\n",
        "final_list.append(top2_list[1])\n",
        "for i in range(0,22):\n",
        "    x = year_list[i]+\"  \"+pop_list[i]+\" \"+cost_list[i]+\"  \"+str(avg_list[i])\n",
        "    final_list.append(p)\n",
        "print(final_list)"
      ],
      "execution_count": 112,
      "outputs": [
        {
          "output_type": "stream",
          "name": "stdout",
          "text": [
            "['Census Year\\tTotal Population\\tCensus Cost\\tAverage Cost Per Person\\n', '1790\\t3,929,214\\t$44,377\\t1.13 cents\\n', '2010  308745538 13 000000000  0.4211', '2010  308745538 13 000000000  0.4211', '2010  308745538 13 000000000  0.4211', '2010  308745538 13 000000000  0.4211', '2010  308745538 13 000000000  0.4211', '2010  308745538 13 000000000  0.4211', '2010  308745538 13 000000000  0.4211', '2010  308745538 13 000000000  0.4211', '2010  308745538 13 000000000  0.4211', '2010  308745538 13 000000000  0.4211', '2010  308745538 13 000000000  0.4211', '2010  308745538 13 000000000  0.4211', '2010  308745538 13 000000000  0.4211', '2010  308745538 13 000000000  0.4211', '2010  308745538 13 000000000  0.4211', '2010  308745538 13 000000000  0.4211', '2010  308745538 13 000000000  0.4211', '2010  308745538 13 000000000  0.4211', '2010  308745538 13 000000000  0.4211', '2010  308745538 13 000000000  0.4211', '2010  308745538 13 000000000  0.4211', '2010  308745538 13 000000000  0.4211']\n"
          ]
        }
      ]
    },
    {
      "cell_type": "markdown",
      "metadata": {
        "id": "hsqwV8hi9fDc"
      },
      "source": [
        "##9. Write code to open the newly-created file \"census_cost.csv\", read all lines and display them"
      ]
    },
    {
      "cell_type": "code",
      "metadata": {
        "colab": {
          "base_uri": "https://localhost:8080/"
        },
        "id": "jH366zFt9auu",
        "outputId": "99316f04-0111-4205-a1b0-e84a30993164"
      },
      "source": [
        "import csv\n",
        "with open(\"census_cost.csv\",\"w\") as f:\n",
        "  for x in final_list:\n",
        "    f.write(x)\n",
        "\n",
        "with open(\"/content/census_cost.csv\", \"r\") as file:\n",
        "    lines = file.readlines()\n",
        "print(lines)"
      ],
      "execution_count": 95,
      "outputs": [
        {
          "output_type": "stream",
          "name": "stdout",
          "text": [
            "['Census Year\\tTotal Population\\tCensus Cost\\tAverage Cost Per Person\\n', '1790\\t3,929,214\\t$44,377\\t1.13 cents\\n', '2010  308745538 13 000000000  0.42112010  308745538 13 000000000  0.42112010  308745538 13 000000000  0.42112010  308745538 13 000000000  0.42112010  308745538 13 000000000  0.42112010  308745538 13 000000000  0.42112010  308745538 13 000000000  0.42112010  308745538 13 000000000  0.42112010  308745538 13 000000000  0.42112010  308745538 13 000000000  0.42112010  308745538 13 000000000  0.42112010  308745538 13 000000000  0.42112010  308745538 13 000000000  0.42112010  308745538 13 000000000  0.42112010  308745538 13 000000000  0.42112010  308745538 13 000000000  0.42112010  308745538 13 000000000  0.42112010  308745538 13 000000000  0.42112010  308745538 13 000000000  0.42112010  308745538 13 000000000  0.42112010  308745538 13 000000000  0.42112010  308745538 13 000000000  0.4211']\n"
          ]
        }
      ]
    }
  ]
}