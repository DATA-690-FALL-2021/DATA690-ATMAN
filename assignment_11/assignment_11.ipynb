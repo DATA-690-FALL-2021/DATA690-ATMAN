{
  "nbformat": 4,
  "nbformat_minor": 0,
  "metadata": {
    "colab": {
      "name": "assignment_11.ipynb",
      "provenance": [],
      "authorship_tag": "ABX9TyOY56rn+vpZN7SY4phb9g6J",
      "include_colab_link": true
    },
    "kernelspec": {
      "name": "python3",
      "display_name": "Python 3"
    },
    "language_info": {
      "name": "python"
    }
  },
  "cells": [
    {
      "cell_type": "markdown",
      "metadata": {
        "id": "view-in-github",
        "colab_type": "text"
      },
      "source": [
        "<a href=\"https://colab.research.google.com/github/kq49539/DATA690-ATMAN/blob/main/assignment_11/assignment_11.ipynb\" target=\"_parent\"><img src=\"https://colab.research.google.com/assets/colab-badge.svg\" alt=\"Open In Colab\"/></a>"
      ]
    },
    {
      "cell_type": "markdown",
      "metadata": {
        "id": "VnRldbh_NT2P"
      },
      "source": [
        "# Ezanalytix Practice Session\n",
        "\n",
        "- Name: Atman\n",
        "- Date: 11 Nov"
      ]
    },
    {
      "cell_type": "markdown",
      "metadata": {
        "id": "7-poBt9iN1Jz"
      },
      "source": [
        "# Learned from Ezanalytix workshop\n",
        "\n",
        "- Get the hands-on experience to visualize the data from the datasets.\n",
        "- Ezanalytix accelerates data analytics and decision making.\n",
        "- We can simply analyze the data with no coding experience.\n",
        "- Auto-generated and detailed interpretation analysis report.\n",
        "- learned how to join datasets and perform various methods. "
      ]
    }
  ]
}