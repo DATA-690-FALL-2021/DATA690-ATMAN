{
  "nbformat": 4,
  "nbformat_minor": 0,
  "metadata": {
    "colab": {
      "name": "assignment_01.ipynb",
      "provenance": [],
      "authorship_tag": "ABX9TyMIZZvqUk1JKgXA01IgMkNw",
      "include_colab_link": true
    },
    "kernelspec": {
      "name": "python3",
      "display_name": "Python 3"
    },
    "language_info": {
      "name": "python"
    }
  },
  "cells": [
    {
      "cell_type": "markdown",
      "metadata": {
        "id": "view-in-github",
        "colab_type": "text"
      },
      "source": [
        "<a href=\"https://colab.research.google.com/github/kq49539/DATA690-ATMAN/blob/main/assignment_01/assignment_01.ipynb\" target=\"_parent\"><img src=\"https://colab.research.google.com/assets/colab-badge.svg\" alt=\"Open In Colab\"/></a>"
      ]
    },
    {
      "cell_type": "markdown",
      "metadata": {
        "id": "8KP4NEUMOOoj"
      },
      "source": [
        "# Assignment 1 for DATA 690 FALL 2021\n",
        "- Instructor: Dr Jay Wang\n",
        "-Student: Atman Patel\n",
        "-Date: 09/02/2021\n",
        "\n",
        "This is demonstration of Jupyter Notebook\n"
      ]
    },
    {
      "cell_type": "markdown",
      "metadata": {
        "id": "xZVrlxeuQh9_"
      },
      "source": [
        "## 1. Simple Python Code"
      ]
    },
    {
      "cell_type": "code",
      "metadata": {
        "colab": {
          "base_uri": "https://localhost:8080/"
        },
        "id": "m5EoasCkNw1t",
        "outputId": "861c933a-1898-4571-e326-86f91372c846"
      },
      "source": [
        "print(\"Hello world\")  "
      ],
      "execution_count": 1,
      "outputs": [
        {
          "output_type": "stream",
          "name": "stdout",
          "text": [
            "Hello world\n"
          ]
        }
      ]
    },
    {
      "cell_type": "markdown",
      "metadata": {
        "id": "FS5Vhb2UQH09"
      },
      "source": [
        "## 2.Perform Multiplication"
      ]
    },
    {
      "cell_type": "code",
      "metadata": {
        "colab": {
          "base_uri": "https://localhost:8080/"
        },
        "id": "HXDsK09MPc6P",
        "outputId": "a43a0bbc-8812-4698-ba1e-fe4a3c8e9ffb"
      },
      "source": [
        "x = 10 * 2\n",
        "print(x)"
      ],
      "execution_count": 4,
      "outputs": [
        {
          "output_type": "stream",
          "name": "stdout",
          "text": [
            "20\n"
          ]
        }
      ]
    },
    {
      "cell_type": "markdown",
      "metadata": {
        "id": "gM2AeuxCQNIR"
      },
      "source": [
        "## 3. Perform Division"
      ]
    },
    {
      "cell_type": "code",
      "metadata": {
        "colab": {
          "base_uri": "https://localhost:8080/"
        },
        "id": "fx8j4xKBPjzO",
        "outputId": "fd2c594b-312d-401d-bd92-1c254dec8fba"
      },
      "source": [
        "y = 100\n",
        "z = y / x\n",
        "print(z)"
      ],
      "execution_count": 5,
      "outputs": [
        {
          "output_type": "stream",
          "name": "stdout",
          "text": [
            "5.0\n"
          ]
        }
      ]
    }
  ]
}