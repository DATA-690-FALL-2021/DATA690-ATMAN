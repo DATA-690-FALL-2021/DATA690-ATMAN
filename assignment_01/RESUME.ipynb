{
  "nbformat": 4,
  "nbformat_minor": 0,
  "metadata": {
    "colab": {
      "name": "RESUME.ipynb",
      "provenance": [],
      "authorship_tag": "ABX9TyNMWo0P8AqF6uaVoWXH06zP",
      "include_colab_link": true
    },
    "kernelspec": {
      "name": "python3",
      "display_name": "Python 3"
    },
    "language_info": {
      "name": "python"
    }
  },
  "cells": [
    {
      "cell_type": "markdown",
      "metadata": {
        "id": "view-in-github",
        "colab_type": "text"
      },
      "source": [
        "<a href=\"https://colab.research.google.com/github/kq49539/DATA690-ATMAN/blob/main/assignment_01/RESUME.ipynb\" target=\"_parent\"><img src=\"https://colab.research.google.com/assets/colab-badge.svg\" alt=\"Open In Colab\"/></a>"
      ]
    },
    {
      "cell_type": "markdown",
      "metadata": {
        "id": "SbP2Yk1y-Enr"
      },
      "source": [
        "![picture](https://drive.google.com/file/d/1_m0eJc4b9wzxLF_C-gmUKxFS5JBuweeF/view?usp=sharing)"
      ]
    },
    {
      "cell_type": "markdown",
      "metadata": {
        "id": "hyIOFaMBxBGx"
      },
      "source": [
        "### SUMMARY\n",
        "\n",
        "- I see myself as a Data Scientist working for Amazon.\n",
        "- Highly energetic, motivated, disciplined, focused and coming from computer science field, always looking for an opportunity to expand my knowledge and skill-set by working with team or industry experts and contributuing to the growth of organisation. \n",
        "- Dedicated employee known for punctuality, pursuing employment options where good customer service and positive attitude will make a difference.\n",
        "- Flexible hard worker ready to learn and contribute to team success.\n",
        "- Excellent oral and written communication, listening and time management skills with strong attention to detail superior work ethic."
      ]
    },
    {
      "cell_type": "markdown",
      "metadata": {
        "id": "jCsnX0B27Jnj"
      },
      "source": [
        "### SKILLS\n",
        "\n",
        "- Microsoft Office\n",
        "- Web Developing Front-End\n",
        "- Good Oral Communication\n",
        "- Cash countering machine operations\n",
        "- Security Montoring and ID Verification"
      ]
    },
    {
      "cell_type": "markdown",
      "metadata": {
        "id": "0TBQVC5Dxm2M"
      },
      "source": [
        "### EDUCATION QUALIFICATIONS\n",
        "\n",
        "- Currently pursuing Masters in Data Science from University of Maryland, Baltimore, County.\n",
        "- Bachelors in Computer Science and Engineering from Babaria Institute of Technology with 88%.\n",
        "- Completed 10 and 12 with 72% and 70% respectively. \n"
      ]
    },
    {
      "cell_type": "markdown",
      "metadata": {
        "id": "0MbFcGqt0yzz"
      },
      "source": [
        "### EMPLOYMENT EXPERIENCE\n",
        "\n",
        "1. THE CORNER SHOP - CASHIER\n",
        " - Operated cash register, collected payments and provided accurate change.\n",
        " - Worked closely with front-end staff to assist customers.\n",
        " - Maintained high productivity by processing cash, credit, debit and voucher program payments for customers.\n",
        " - Promoted specific item options to drive sales and achieve add-on purchases.\n",
        " - Inspected items for damage and obtained replacements for customers.\n",
        "\n",
        "\n"
      ]
    },
    {
      "cell_type": "markdown",
      "metadata": {
        "id": "7FZUnYk13kYA"
      },
      "source": [
        "### ACTIVITIES and HONORS\n",
        "\n",
        "- Volunteered and participated in Data Analytics program held at Carleton university, Canada.\n",
        "- Certified in Web Developing Course from Intershala.\n",
        "- Member, alumni association of Babaria cricket team.\n",
        "- State level Swimmer."
      ]
    },
    {
      "cell_type": "markdown",
      "metadata": {
        "id": "X4jpvY_h5Dxd"
      },
      "source": [
        "### WEBSITES, PORTFOLIOS, PROFILES\n",
        "\n",
        "- https://www.linkedin.com/in/atman-patel-5a91581ba\n",
        "- Gmail: atmanpatel5@gmail.com\n",
        "- Facebook ID: Atman Patel \n",
        "- GitHUb ID: kq49539\n"
      ]
    },
    {
      "cell_type": "markdown",
      "metadata": {
        "id": "q-_q7nzA4ug0"
      },
      "source": [
        "### LANGUAGES KNOWN\n",
        "\n",
        "1. English\n",
        "2. Hindi\n",
        "3. Gujarati"
      ]
    },
    {
      "cell_type": "markdown",
      "metadata": {
        "id": "H8zWxVF38Qn5"
      },
      "source": [
        "### HOBBIES\n",
        "\n",
        "1. Watching Movies \n",
        "2. Playing Cricket\n",
        "3. Listening Music\n",
        "4. Swimming"
      ]
    },
    {
      "cell_type": "markdown",
      "metadata": {
        "id": "g5q7Fm0aGcLj"
      },
      "source": [
        "### DECLARATION\n",
        "\n",
        "I hereby declare that the above given information is true to the best of my knowledge.\n",
        "\n",
        "ATMAN PATEL"
      ]
    }
  ]
}