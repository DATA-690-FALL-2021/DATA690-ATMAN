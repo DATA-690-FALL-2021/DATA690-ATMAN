{
  "nbformat": 4,
  "nbformat_minor": 0,
  "metadata": {
    "colab": {
      "name": "in_class_practice_09.ipynb",
      "provenance": [],
      "authorship_tag": "ABX9TyOypyNV+biL3XZPUKFMxdeo",
      "include_colab_link": true
    },
    "kernelspec": {
      "name": "python3",
      "display_name": "Python 3"
    },
    "language_info": {
      "name": "python"
    }
  },
  "cells": [
    {
      "cell_type": "markdown",
      "metadata": {
        "id": "view-in-github",
        "colab_type": "text"
      },
      "source": [
        "<a href=\"https://colab.research.google.com/github/kq49539/DATA690-ATMAN/blob/main/assignment_09/in_class_practice_09.ipynb\" target=\"_parent\"><img src=\"https://colab.research.google.com/assets/colab-badge.svg\" alt=\"Open In Colab\"/></a>"
      ]
    },
    {
      "cell_type": "markdown",
      "metadata": {
        "id": "tKd8gMZqQ81H"
      },
      "source": [
        "# In_class_parctice_09\n",
        "- Name: Atman Patel\n",
        "- Date: 28 Oct"
      ]
    },
    {
      "cell_type": "code",
      "metadata": {
        "id": "zeMJcGimOUOC"
      },
      "source": [
        "import pandas as pd\n",
        "import numpy as np\n",
        "import matplotlib.pyplot as plt\n",
        "import plotly.graph_objects as go\n",
        "import plotly.express as px"
      ],
      "execution_count": 1,
      "outputs": []
    },
    {
      "cell_type": "code",
      "metadata": {
        "id": "4g07nTMzOeT_"
      },
      "source": [
        "import math_function as mf"
      ],
      "execution_count": 2,
      "outputs": []
    },
    {
      "cell_type": "code",
      "metadata": {
        "colab": {
          "base_uri": "https://localhost:8080/"
        },
        "id": "gRRsqFMUR1ZQ",
        "outputId": "f2434b77-83da-483c-cacd-37a9e4786102"
      },
      "source": [
        "a = input(\"enter a number: \")\n"
      ],
      "execution_count": 3,
      "outputs": [
        {
          "name": "stdout",
          "output_type": "stream",
          "text": [
            "enter a number: 100\n"
          ]
        }
      ]
    },
    {
      "cell_type": "code",
      "metadata": {
        "colab": {
          "base_uri": "https://localhost:8080/"
        },
        "id": "N78DS1jESGB3",
        "outputId": "0fe874c3-8af3-48c5-fe01-03e59338781b"
      },
      "source": [
        "b = input(\"enter a number: \")"
      ],
      "execution_count": 4,
      "outputs": [
        {
          "name": "stdout",
          "output_type": "stream",
          "text": [
            "enter a number: 200\n"
          ]
        }
      ]
    },
    {
      "cell_type": "code",
      "metadata": {
        "colab": {
          "base_uri": "https://localhost:8080/"
        },
        "id": "Z33WIb0vSNVP",
        "outputId": "96a86cd4-8cac-450a-c106-3909ba1014e4"
      },
      "source": [
        "c = mf.addition(a,b)\n",
        "print(c)"
      ],
      "execution_count": 5,
      "outputs": [
        {
          "output_type": "stream",
          "name": "stdout",
          "text": [
            "100200\n"
          ]
        }
      ]
    },
    {
      "cell_type": "code",
      "metadata": {
        "colab": {
          "base_uri": "https://localhost:8080/"
        },
        "id": "r58eOmFQSaOE",
        "outputId": "70559f42-b810-45d4-fcc5-b9729f96142d"
      },
      "source": [
        "d = mf.subtraction(int(a), int(b))\n",
        "print(d)"
      ],
      "execution_count": 6,
      "outputs": [
        {
          "output_type": "stream",
          "name": "stdout",
          "text": [
            "-100\n"
          ]
        }
      ]
    },
    {
      "cell_type": "code",
      "metadata": {
        "colab": {
          "base_uri": "https://localhost:8080/"
        },
        "id": "m06oof4GSzHk",
        "outputId": "3ac65db2-e7cd-40a5-dd0b-ca2909c089f5"
      },
      "source": [
        "a = 23\n",
        "b = 50\n",
        "\n",
        "c = mf.addition(a, b)\n",
        "print(c)"
      ],
      "execution_count": 7,
      "outputs": [
        {
          "output_type": "stream",
          "name": "stdout",
          "text": [
            "73\n"
          ]
        }
      ]
    },
    {
      "cell_type": "code",
      "metadata": {
        "id": "jfqmX_gEU7Ka"
      },
      "source": [
        ""
      ],
      "execution_count": 7,
      "outputs": []
    }
  ]
}