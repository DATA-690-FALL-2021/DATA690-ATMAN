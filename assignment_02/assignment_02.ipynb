{
  "nbformat": 4,
  "nbformat_minor": 0,
  "metadata": {
    "colab": {
      "name": "assignment_02.ipynb",
      "provenance": [],
      "authorship_tag": "ABX9TyMFv6Qh86IjUkNPK0zrLHaq",
      "include_colab_link": true
    },
    "kernelspec": {
      "name": "python3",
      "display_name": "Python 3"
    },
    "language_info": {
      "name": "python"
    }
  },
  "cells": [
    {
      "cell_type": "markdown",
      "metadata": {
        "id": "view-in-github",
        "colab_type": "text"
      },
      "source": [
        "<a href=\"https://colab.research.google.com/github/kq49539/DATA690-ATMAN/blob/main/assignment_02/assignment_02.ipynb\" target=\"_parent\"><img src=\"https://colab.research.google.com/assets/colab-badge.svg\" alt=\"Open In Colab\"/></a>"
      ]
    },
    {
      "cell_type": "markdown",
      "metadata": {
        "id": "s3-tbOm0aHFz"
      },
      "source": [
        "##1. Enter 10 Integers"
      ]
    },
    {
      "cell_type": "code",
      "metadata": {
        "colab": {
          "base_uri": "https://localhost:8080/"
        },
        "id": "RxKAow7WY5P-",
        "outputId": "27ac07d5-4fcf-4e32-89a3-fd7c5eaf6a53"
      },
      "source": [
        "for i in range(0, 10):\n",
        " while True:\n",
        "  x = input(\"Please enter integer:\")\n",
        "  try:\n",
        "    y = int(x)\n",
        "    print(\"got integer:\", y)\n",
        "    break\n",
        "  except:\n",
        "   print(\"unable to convert the user input to an integer\")"
      ],
      "execution_count": 5,
      "outputs": [
        {
          "output_type": "stream",
          "name": "stdout",
          "text": [
            "Please enter integer:0\n",
            "got integer: 0\n",
            "Please enter integer:1\n",
            "got integer: 1\n",
            "Please enter integer:2\n",
            "got integer: 2\n",
            "Please enter integer:3\n",
            "got integer: 3\n",
            "Please enter integer:4\n",
            "got integer: 4\n",
            "Please enter integer:5\n",
            "got integer: 5\n",
            "Please enter integer:6\n",
            "got integer: 6\n",
            "Please enter integer:7\n",
            "got integer: 7\n",
            "Please enter integer:8\n",
            "got integer: 8\n",
            "Please enter integer:9\n",
            "got integer: 9\n"
          ]
        }
      ]
    },
    {
      "cell_type": "markdown",
      "metadata": {
        "id": "VlQf9bz6aleM"
      },
      "source": [
        "##2. If the user enters anything other than integers, remind her that only integers are allowed and let her retry."
      ]
    },
    {
      "cell_type": "code",
      "metadata": {
        "colab": {
          "base_uri": "https://localhost:8080/"
        },
        "id": "So4sf3tja5nP",
        "outputId": "4012ab0c-4257-4859-a424-a7fbcb97e09b"
      },
      "source": [
        "for i in range(0, 10):\n",
        " while True:\n",
        "  x = input(\"Please enter integer:\")\n",
        "  try:\n",
        "    y = int(x)\n",
        "    print(\"got integer:\", y)\n",
        "    break\n",
        "  except:\n",
        "   print(\"Only integers are allowed\")"
      ],
      "execution_count": 7,
      "outputs": [
        {
          "output_type": "stream",
          "name": "stdout",
          "text": [
            "Please enter integer:abc\n",
            "Only integers are allowed\n",
            "Please enter integer:abc123\n",
            "Only integers are allowed\n",
            "Please enter integer:1\n",
            "got integer: 1\n",
            "Please enter integer:2\n",
            "got integer: 2\n",
            "Please enter integer:3\n",
            "got integer: 3\n",
            "Please enter integer:4\n",
            "got integer: 4\n",
            "Please enter integer:5\n",
            "got integer: 5\n",
            "Please enter integer:6\n",
            "got integer: 6\n",
            "Please enter integer:7\n",
            "got integer: 7\n",
            "Please enter integer:8\n",
            "got integer: 8\n",
            "Please enter integer:9\n",
            "got integer: 9\n",
            "Please enter integer:10\n",
            "got integer: 10\n"
          ]
        }
      ]
    },
    {
      "cell_type": "markdown",
      "metadata": {
        "id": "gsa5uwOJbu9x"
      },
      "source": [
        "##3. Don't allow the user to enter more than 10 or less than 10 integers."
      ]
    }
  ]
}