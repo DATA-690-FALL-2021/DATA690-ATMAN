{
  "nbformat": 4,
  "nbformat_minor": 0,
  "metadata": {
    "colab": {
      "name": "in_session_practices_02.ipynb",
      "provenance": [],
      "authorship_tag": "ABX9TyMJekLzW+FEEEEQ7GrhOk7S",
      "include_colab_link": true
    },
    "kernelspec": {
      "name": "python3",
      "display_name": "Python 3"
    },
    "language_info": {
      "name": "python"
    }
  },
  "cells": [
    {
      "cell_type": "markdown",
      "metadata": {
        "id": "view-in-github",
        "colab_type": "text"
      },
      "source": [
        "<a href=\"https://colab.research.google.com/github/kq49539/DATA690-ATMAN/blob/main/assignment_02/in_session_practices_02.ipynb\" target=\"_parent\"><img src=\"https://colab.research.google.com/assets/colab-badge.svg\" alt=\"Open In Colab\"/></a>"
      ]
    },
    {
      "cell_type": "markdown",
      "metadata": {
        "id": "CLClPuem-nJB"
      },
      "source": [
        "## In session Hands-on practices\n",
        "\n",
        "Atman Patel"
      ]
    },
    {
      "cell_type": "code",
      "metadata": {
        "colab": {
          "base_uri": "https://localhost:8080/"
        },
        "id": "Y-X9-uhU-OyE",
        "outputId": "5c8ff598-a32e-4a05-91f9-1b8d4a594833"
      },
      "source": [
        "x = 5 # integer\n",
        "y = 0.5 # float\n",
        "s = \"hello\" # string a collection of characters\n",
        "print (x,y,s)\n"
      ],
      "execution_count": 2,
      "outputs": [
        {
          "output_type": "stream",
          "name": "stdout",
          "text": [
            "5 0.5 hello\n"
          ]
        }
      ]
    },
    {
      "cell_type": "markdown",
      "metadata": {
        "id": "ydeqhgHJ_fEJ"
      },
      "source": [
        "## Collection Type\n",
        " "
      ]
    },
    {
      "cell_type": "code",
      "metadata": {
        "colab": {
          "base_uri": "https://localhost:8080/"
        },
        "id": "_JbSI1pX_4ss",
        "outputId": "2315e38a-f150-40ca-d198-bbf610051f9b"
      },
      "source": [
        "a_list = [1, 4, 7, 10]\n",
        "print(a_list)"
      ],
      "execution_count": 11,
      "outputs": [
        {
          "output_type": "stream",
          "name": "stdout",
          "text": [
            "[1, 4, 7, 10]\n"
          ]
        }
      ]
    },
    {
      "cell_type": "code",
      "metadata": {
        "colab": {
          "base_uri": "https://localhost:8080/"
        },
        "id": "h0MGbeSyANbo",
        "outputId": "13034c4d-3bbb-4a4f-e3d3-349b993d52a5"
      },
      "source": [
        "type(a_list)"
      ],
      "execution_count": 6,
      "outputs": [
        {
          "output_type": "execute_result",
          "data": {
            "text/plain": [
              "list"
            ]
          },
          "metadata": {},
          "execution_count": 6
        }
      ]
    },
    {
      "cell_type": "markdown",
      "metadata": {
        "id": "yKhbCsnFATM7"
      },
      "source": [
        "## Loop\n"
      ]
    },
    {
      "cell_type": "code",
      "metadata": {
        "colab": {
          "base_uri": "https://localhost:8080/"
        },
        "id": "OMXUtNWJAWE4",
        "outputId": "a1c640bc-3505-4110-8824-1c2f77b77067"
      },
      "source": [
        "for i in a_list:\n",
        " print(\"integer\", i)"
      ],
      "execution_count": 16,
      "outputs": [
        {
          "output_type": "stream",
          "name": "stdout",
          "text": [
            "intefer 1\n",
            "intefer 4\n",
            "intefer 7\n",
            "intefer 10\n"
          ]
        }
      ]
    },
    {
      "cell_type": "markdown",
      "metadata": {
        "id": "iRU0eYsvBkpI"
      },
      "source": [
        "## Conditions"
      ]
    },
    {
      "cell_type": "code",
      "metadata": {
        "colab": {
          "base_uri": "https://localhost:8080/"
        },
        "id": "pXu2OToGBorn",
        "outputId": "8271f9d0-e1e0-458f-bdf2-85a4af260c7c"
      },
      "source": [
        "print(10 % 2) # modula"
      ],
      "execution_count": 19,
      "outputs": [
        {
          "output_type": "stream",
          "name": "stdout",
          "text": [
            "0\n"
          ]
        }
      ]
    },
    {
      "cell_type": "code",
      "metadata": {
        "colab": {
          "base_uri": "https://localhost:8080/"
        },
        "id": "GLP1YUNACBv3",
        "outputId": "107be567-2740-420e-f982-529ad346dbd9"
      },
      "source": [
        "print(23 % 2) # modula"
      ],
      "execution_count": 21,
      "outputs": [
        {
          "output_type": "stream",
          "name": "stdout",
          "text": [
            "1\n"
          ]
        }
      ]
    },
    {
      "cell_type": "code",
      "metadata": {
        "colab": {
          "base_uri": "https://localhost:8080/"
        },
        "id": "ABWqKyC4CSR2",
        "outputId": "427b471a-6d97-463d-8ca5-87d8edb47fc5"
      },
      "source": [
        "for i in a_list:\n",
        "  if i % 2 == 1:\n",
        "   print(\"odd number\", i)"
      ],
      "execution_count": 24,
      "outputs": [
        {
          "output_type": "stream",
          "name": "stdout",
          "text": [
            "odd number 1\n",
            "odd number 7\n"
          ]
        }
      ]
    }
  ]
}