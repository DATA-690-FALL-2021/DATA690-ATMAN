{
  "nbformat": 4,
  "nbformat_minor": 0,
  "metadata": {
    "colab": {
      "name": "in_session_practices_02.ipynb",
      "provenance": [],
      "authorship_tag": "ABX9TyPqKStHFGshyH5RKnSo+CaB",
      "include_colab_link": true
    },
    "kernelspec": {
      "name": "python3",
      "display_name": "Python 3"
    },
    "language_info": {
      "name": "python"
    }
  },
  "cells": [
    {
      "cell_type": "markdown",
      "metadata": {
        "id": "view-in-github",
        "colab_type": "text"
      },
      "source": [
        "<a href=\"https://colab.research.google.com/github/kq49539/DATA690-ATMAN/blob/main/assignment_02/in_session_practices_02.ipynb\" target=\"_parent\"><img src=\"https://colab.research.google.com/assets/colab-badge.svg\" alt=\"Open In Colab\"/></a>"
      ]
    },
    {
      "cell_type": "markdown",
      "metadata": {
        "id": "CLClPuem-nJB"
      },
      "source": [
        "## In session Hands-on practices\n",
        "\n",
        "# Atman Patel"
      ]
    },
    {
      "cell_type": "markdown",
      "metadata": {
        "id": "-UKZqsz4QnG5"
      },
      "source": [
        "## Simple Type\n",
        "- int\n",
        "- float\n",
        "- boolean\n",
        "- NaN (Not an Number)"
      ]
    },
    {
      "cell_type": "code",
      "metadata": {
        "colab": {
          "base_uri": "https://localhost:8080/"
        },
        "id": "Y-X9-uhU-OyE",
        "outputId": "5c8ff598-a32e-4a05-91f9-1b8d4a594833"
      },
      "source": [
        "x = 5 # integer\n",
        "y = 0.5 # float\n",
        "s = \"hello\" # string a collection of characters\n",
        "print (x,y,s)\n"
      ],
      "execution_count": null,
      "outputs": [
        {
          "output_type": "stream",
          "name": "stdout",
          "text": [
            "5 0.5 hello\n"
          ]
        }
      ]
    },
    {
      "cell_type": "markdown",
      "metadata": {
        "id": "ydeqhgHJ_fEJ"
      },
      "source": [
        "## Collection Type\n",
        " "
      ]
    },
    {
      "cell_type": "code",
      "metadata": {
        "colab": {
          "base_uri": "https://localhost:8080/"
        },
        "id": "_JbSI1pX_4ss",
        "outputId": "2315e38a-f150-40ca-d198-bbf610051f9b"
      },
      "source": [
        "a_list = [1, 4, 7, 10]\n",
        "print(a_list)"
      ],
      "execution_count": null,
      "outputs": [
        {
          "output_type": "stream",
          "name": "stdout",
          "text": [
            "[1, 4, 7, 10]\n"
          ]
        }
      ]
    },
    {
      "cell_type": "code",
      "metadata": {
        "id": "h0MGbeSyANbo"
      },
      "source": [
        "type(a_list)"
      ],
      "execution_count": null,
      "outputs": []
    },
    {
      "cell_type": "markdown",
      "metadata": {
        "id": "yKhbCsnFATM7"
      },
      "source": [
        "## Loop\n"
      ]
    },
    {
      "cell_type": "code",
      "metadata": {
        "id": "OMXUtNWJAWE4"
      },
      "source": [
        "for i in a_list:\n",
        "print(\"integer\", i)"
      ],
      "execution_count": null,
      "outputs": []
    },
    {
      "cell_type": "markdown",
      "metadata": {
        "id": "iRU0eYsvBkpI"
      },
      "source": [
        "## Conditions"
      ]
    },
    {
      "cell_type": "code",
      "metadata": {
        "colab": {
          "base_uri": "https://localhost:8080/"
        },
        "id": "pXu2OToGBorn",
        "outputId": "f4bfb86d-3e6a-4946-8a84-574817c04531"
      },
      "source": [
        "print(10 % 2) # modula"
      ],
      "execution_count": 12,
      "outputs": [
        {
          "output_type": "stream",
          "name": "stdout",
          "text": [
            "0\n"
          ]
        }
      ]
    },
    {
      "cell_type": "code",
      "metadata": {
        "colab": {
          "base_uri": "https://localhost:8080/"
        },
        "id": "GLP1YUNACBv3",
        "outputId": "107be567-2740-420e-f982-529ad346dbd9"
      },
      "source": [
        "print(23 % 2) # modula"
      ],
      "execution_count": null,
      "outputs": [
        {
          "output_type": "stream",
          "name": "stdout",
          "text": [
            "1\n"
          ]
        }
      ]
    },
    {
      "cell_type": "code",
      "metadata": {
        "colab": {
          "base_uri": "https://localhost:8080/"
        },
        "id": "ABWqKyC4CSR2",
        "outputId": "427b471a-6d97-463d-8ca5-87d8edb47fc5"
      },
      "source": [
        "for i in a_list:\n",
        "  if i % 2 == 1:\n",
        "   print(\"odd number\", i)"
      ],
      "execution_count": null,
      "outputs": [
        {
          "output_type": "stream",
          "name": "stdout",
          "text": [
            "odd number 1\n",
            "odd number 7\n"
          ]
        }
      ]
    },
    {
      "cell_type": "markdown",
      "metadata": {
        "id": "BbNzmPN4K-ss"
      },
      "source": [
        "## Python Build-in functions\n",
        "- range()\n",
        "- list()"
      ]
    },
    {
      "cell_type": "code",
      "metadata": {
        "id": "2BmxVn4wLFeB",
        "outputId": "81e9bdbb-2b7f-4d70-9760-a8b020243824",
        "colab": {
          "base_uri": "https://localhost:8080/"
        }
      },
      "source": [
        "for i in range(10, 21, 2): # start= 10, stop = 21 (upto 20, not including 21), step = 2\n",
        " print(i)"
      ],
      "execution_count": 6,
      "outputs": [
        {
          "output_type": "stream",
          "name": "stdout",
          "text": [
            "10\n",
            "12\n",
            "14\n",
            "16\n",
            "18\n",
            "20\n"
          ]
        }
      ]
    },
    {
      "cell_type": "code",
      "metadata": {
        "id": "m479IGD9Lnj5",
        "outputId": "71b4f46a-10c7-43d0-a5fa-07b6a812a4c5",
        "colab": {
          "base_uri": "https://localhost:8080/"
        }
      },
      "source": [
        "for j in range(0, 5):\n",
        "  print(j)"
      ],
      "execution_count": 7,
      "outputs": [
        {
          "output_type": "stream",
          "name": "stdout",
          "text": [
            "0\n",
            "1\n",
            "2\n",
            "3\n",
            "4\n"
          ]
        }
      ]
    },
    {
      "cell_type": "code",
      "metadata": {
        "id": "MRlTy_L8MyBE",
        "outputId": "400e07ac-a277-48d6-cbfd-38185f2d4d55",
        "colab": {
          "base_uri": "https://localhost:8080/"
        }
      },
      "source": [
        "print(list(range(0, 5)))"
      ],
      "execution_count": 13,
      "outputs": [
        {
          "output_type": "stream",
          "name": "stdout",
          "text": [
            "[0, 1, 2, 3, 4]\n"
          ]
        }
      ]
    },
    {
      "cell_type": "code",
      "metadata": {
        "id": "UdFIHlyQM9u1",
        "outputId": "186fe66d-9db0-43ff-8730-4e796301ad58",
        "colab": {
          "base_uri": "https://localhost:8080/"
        }
      },
      "source": [
        "x = \"50\"\n",
        "type(x)"
      ],
      "execution_count": 14,
      "outputs": [
        {
          "output_type": "execute_result",
          "data": {
            "text/plain": [
              "str"
            ]
          },
          "metadata": {},
          "execution_count": 14
        }
      ]
    },
    {
      "cell_type": "code",
      "metadata": {
        "id": "UAcMI_wCNGD6",
        "outputId": "380dc870-e86e-4005-e450-38e40ab413f5",
        "colab": {
          "base_uri": "https://localhost:8080/"
        }
      },
      "source": [
        "y = int(x)\n",
        "type(y)"
      ],
      "execution_count": 15,
      "outputs": [
        {
          "output_type": "execute_result",
          "data": {
            "text/plain": [
              "int"
            ]
          },
          "metadata": {},
          "execution_count": 15
        }
      ]
    },
    {
      "cell_type": "code",
      "metadata": {
        "id": "fEvbBZJUNNB3",
        "outputId": "c89eddda-f142-4e13-fe27-b00166e3097f",
        "colab": {
          "base_uri": "https://localhost:8080/"
        }
      },
      "source": [
        "print(x,y)"
      ],
      "execution_count": 16,
      "outputs": [
        {
          "output_type": "stream",
          "name": "stdout",
          "text": [
            "50 50\n"
          ]
        }
      ]
    },
    {
      "cell_type": "markdown",
      "metadata": {
        "id": "M2kC24s8NrXg"
      },
      "source": [
        "## Accepting User Inputs"
      ]
    },
    {
      "cell_type": "code",
      "metadata": {
        "id": "qDMxfLhDN2La",
        "outputId": "82263db3-9bf1-4522-990e-da8ab56286c9",
        "colab": {
          "base_uri": "https://localhost:8080/"
        }
      },
      "source": [
        "x = input(\"Enter an integer:\")\n"
      ],
      "execution_count": 28,
      "outputs": [
        {
          "name": "stdout",
          "output_type": "stream",
          "text": [
            "Enter an integer:20\n"
          ]
        }
      ]
    },
    {
      "cell_type": "code",
      "metadata": {
        "id": "DprpN_WIOFPh",
        "outputId": "4060821e-6a10-4953-82b0-3a63b96971f6",
        "colab": {
          "base_uri": "https://localhost:8080/"
        }
      },
      "source": [
        "print(x)"
      ],
      "execution_count": 26,
      "outputs": [
        {
          "output_type": "stream",
          "name": "stdout",
          "text": [
            "20\n"
          ]
        }
      ]
    },
    {
      "cell_type": "code",
      "metadata": {
        "id": "r_yPsH6dOJRG",
        "outputId": "8aa27681-1a8f-44cc-ab78-7678a45239fe",
        "colab": {
          "base_uri": "https://localhost:8080/"
        }
      },
      "source": [
        "type(x)"
      ],
      "execution_count": 27,
      "outputs": [
        {
          "output_type": "execute_result",
          "data": {
            "text/plain": [
              "str"
            ]
          },
          "metadata": {},
          "execution_count": 27
        }
      ]
    },
    {
      "cell_type": "code",
      "metadata": {
        "id": "aw-FjKwaONMR",
        "outputId": "f25565c7-9732-4d4f-f83a-c4290106f35d",
        "colab": {
          "base_uri": "https://localhost:8080/"
        }
      },
      "source": [
        "x = input(\"Enter an integer:\")\n",
        "\n"
      ],
      "execution_count": 29,
      "outputs": [
        {
          "name": "stdout",
          "output_type": "stream",
          "text": [
            "Enter an integer:Atman\n"
          ]
        }
      ]
    },
    {
      "cell_type": "markdown",
      "metadata": {
        "id": "CZeQa0sqOe2S"
      },
      "source": [
        "## Exception Handling"
      ]
    },
    {
      "cell_type": "code",
      "metadata": {
        "id": "S6BhxNW5OiWA",
        "outputId": "f1fa4106-4760-443b-af3a-2476aa91417e",
        "colab": {
          "base_uri": "https://localhost:8080/"
        }
      },
      "source": [
        "y = int(\"50\")\n",
        "print(y)"
      ],
      "execution_count": 31,
      "outputs": [
        {
          "output_type": "stream",
          "name": "stdout",
          "text": [
            "50\n"
          ]
        }
      ]
    },
    {
      "cell_type": "code",
      "metadata": {
        "id": "pZm4-bTOO4oG",
        "outputId": "75fd007f-3037-41c2-bb25-f6337f8a8e56",
        "colab": {
          "base_uri": "https://localhost:8080/"
        }
      },
      "source": [
        "x = input(\"please enter integer:\")\n",
        "try:\n",
        " y = int(x)\n",
        " print(\"got integer:\", y)\n",
        "except:\n",
        "  print(\"unable to convert the user input to an integer\") "
      ],
      "execution_count": 33,
      "outputs": [
        {
          "output_type": "stream",
          "name": "stdout",
          "text": [
            "please enter integer:Atman\n",
            "unable to convert the user input to an integer\n"
          ]
        }
      ]
    },
    {
      "cell_type": "markdown",
      "metadata": {
        "id": "4Vx18CdgPzT4"
      },
      "source": [
        "## Infinite Loop"
      ]
    },
    {
      "cell_type": "code",
      "metadata": {
        "id": "Kf4fQJoqP3Tg",
        "outputId": "45f184a1-e0d9-4841-a79c-34e1045192e5",
        "colab": {
          "base_uri": "https://localhost:8080/"
        }
      },
      "source": [
        "while True:\n",
        "  x = input(\"Please enter integer:\")\n",
        "  try:\n",
        "    y = int(x)\n",
        "    print(\"got integer:\", y)\n",
        "    break\n",
        "  except:\n",
        "   print(\"unable to convert the user input to an integer\") "
      ],
      "execution_count": 42,
      "outputs": [
        {
          "output_type": "stream",
          "name": "stdout",
          "text": [
            "Please enter integer:Atman\n",
            "unable to convert the user input to an integer\n",
            "Please enter integer:Class\n",
            "unable to convert the user input to an integer\n",
            "Please enter integer:Atman7\n",
            "unable to convert the user input to an integer\n",
            "Please enter integer:26\n",
            "got integer: 26\n"
          ]
        }
      ]
    }
  ]
}