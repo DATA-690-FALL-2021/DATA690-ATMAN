{
  "nbformat": 4,
  "nbformat_minor": 0,
  "metadata": {
    "colab": {
      "name": "assignment_02.ipynb",
      "provenance": [],
      "authorship_tag": "ABX9TyO6aBAZlvkl6e8FQaDAdZx/",
      "include_colab_link": true
    },
    "kernelspec": {
      "name": "python3",
      "display_name": "Python 3"
    },
    "language_info": {
      "name": "python"
    }
  },
  "cells": [
    {
      "cell_type": "markdown",
      "metadata": {
        "id": "view-in-github",
        "colab_type": "text"
      },
      "source": [
        "<a href=\"https://colab.research.google.com/github/kq49539/DATA690-ATMAN/blob/main/assignment_02%5Cassignment_02.ipynb\" target=\"_parent\"><img src=\"https://colab.research.google.com/assets/colab-badge.svg\" alt=\"Open In Colab\"/></a>"
      ]
    },
    {
      "cell_type": "markdown",
      "metadata": {
        "id": "s3-tbOm0aHFz"
      },
      "source": [
        "##1. Enter 10 integers.\n",
        "- If the user enters anything other than integers, remind her that only integers are allowed and let her retry."
      ]
    },
    {
      "cell_type": "code",
      "metadata": {
        "colab": {
          "base_uri": "https://localhost:8080/"
        },
        "id": "So4sf3tja5nP",
        "outputId": "ad1b6ec8-acb0-451e-edf1-cd4bb0fd99dc"
      },
      "source": [
        "list = []\n",
        "for i in range(0, 10):\n",
        " while True:\n",
        "  x = input(\"Please enter integer:\")\n",
        "  try:\n",
        "    y = int(x)\n",
        "    list.append(y)\n",
        "    print(\"got integer:\", y)\n",
        "    break\n",
        "  except:\n",
        "   print(\"Only integers are allowed\")\n",
        " print(list) "
      ],
      "execution_count": 4,
      "outputs": [
        {
          "output_type": "stream",
          "name": "stdout",
          "text": [
            "Please enter integer:10\n",
            "got integer: 10\n",
            "[10]\n",
            "Please enter integer:20\n",
            "got integer: 20\n",
            "[10, 20]\n",
            "Please enter integer:30\n",
            "got integer: 30\n",
            "[10, 20, 30]\n",
            "Please enter integer:40\n",
            "got integer: 40\n",
            "[10, 20, 30, 40]\n",
            "Please enter integer:50\n",
            "got integer: 50\n",
            "[10, 20, 30, 40, 50]\n",
            "Please enter integer:abc\n",
            "Only integers are allowed\n",
            "Please enter integer:xyz123\n",
            "Only integers are allowed\n",
            "Please enter integer:60\n",
            "got integer: 60\n",
            "[10, 20, 30, 40, 50, 60]\n",
            "Please enter integer:70\n",
            "got integer: 70\n",
            "[10, 20, 30, 40, 50, 60, 70]\n",
            "Please enter integer:80\n",
            "got integer: 80\n",
            "[10, 20, 30, 40, 50, 60, 70, 80]\n",
            "Please enter integer:90\n",
            "got integer: 90\n",
            "[10, 20, 30, 40, 50, 60, 70, 80, 90]\n",
            "Please enter integer:100\n",
            "got integer: 100\n",
            "[10, 20, 30, 40, 50, 60, 70, 80, 90, 100]\n"
          ]
        }
      ]
    },
    {
      "cell_type": "markdown",
      "metadata": {
        "id": "gsa5uwOJbu9x"
      },
      "source": [
        "##2. Find the Minimum from the 10 integers."
      ]
    },
    {
      "cell_type": "code",
      "metadata": {
        "colab": {
          "base_uri": "https://localhost:8080/"
        },
        "id": "E7tvCOU1LFHP",
        "outputId": "332ec359-dd9a-4b3c-8b43-05202a0e7829"
      },
      "source": [
        "min = list[0]\n",
        "for i in range(len(list)):\n",
        "  if list[i] < min:\n",
        "    min = list[i]\n",
        "print(\"The minimum number is:\", min)"
      ],
      "execution_count": 6,
      "outputs": [
        {
          "output_type": "stream",
          "name": "stdout",
          "text": [
            "The minimum number is: 10\n"
          ]
        }
      ]
    },
    {
      "cell_type": "markdown",
      "metadata": {
        "id": "MG6UajldMGLz"
      },
      "source": [
        "##3. Find the Maximum from 10 integers."
      ]
    },
    {
      "cell_type": "code",
      "metadata": {
        "colab": {
          "base_uri": "https://localhost:8080/"
        },
        "id": "J3sNxk0JMTQS",
        "outputId": "8bb50a58-1062-42cf-9857-609c57968e66"
      },
      "source": [
        "max = list[0]\n",
        "for i in range(len(list)):\n",
        "  if list[i] > max:\n",
        "    max = list[i]\n",
        "print(\"The minimum number is:\", max)"
      ],
      "execution_count": 8,
      "outputs": [
        {
          "output_type": "stream",
          "name": "stdout",
          "text": [
            "The minimum number is: 100\n"
          ]
        }
      ]
    },
    {
      "cell_type": "markdown",
      "metadata": {
        "id": "HzLUb1fcMffG"
      },
      "source": [
        "##4. Find the Range."
      ]
    },
    {
      "cell_type": "code",
      "metadata": {
        "colab": {
          "base_uri": "https://localhost:8080/"
        },
        "id": "3QHgnNZBMvtk",
        "outputId": "2daf1d8c-50a2-4b53-de1f-5c0956496d55"
      },
      "source": [
        "Range = max - min\n",
        "print(\"Range:\", Range)"
      ],
      "execution_count": 17,
      "outputs": [
        {
          "output_type": "stream",
          "name": "stdout",
          "text": [
            "Range: 90\n"
          ]
        }
      ]
    },
    {
      "cell_type": "markdown",
      "metadata": {
        "id": "zi724ZkTN4Cy"
      },
      "source": [
        "##5. Find the Mean of the 10 Integers."
      ]
    },
    {
      "cell_type": "code",
      "metadata": {
        "colab": {
          "base_uri": "https://localhost:8080/"
        },
        "id": "ZDWuDzKsN3gp",
        "outputId": "a42e15a3-0a81-477f-e858-b8c8e254de10"
      },
      "source": [
        "sum = 0\n",
        "for i in list:\n",
        "  sum += i\n",
        "  print(\"sum:\", sum)\n",
        "mean = sum/len(list)\n",
        "print(\"The mean of the 10 integers is\", mean)  "
      ],
      "execution_count": 19,
      "outputs": [
        {
          "output_type": "stream",
          "name": "stdout",
          "text": [
            "sum: 10\n",
            "sum: 30\n",
            "sum: 60\n",
            "sum: 100\n",
            "sum: 150\n",
            "sum: 210\n",
            "sum: 280\n",
            "sum: 360\n",
            "sum: 450\n",
            "sum: 550\n",
            "The mean of the 10 integers is 55.0\n"
          ]
        }
      ]
    },
    {
      "cell_type": "markdown",
      "metadata": {
        "id": "AoyJwUjLOFH9"
      },
      "source": [
        "##6. Find the Variance of the 10 integers."
      ]
    },
    {
      "cell_type": "code",
      "metadata": {
        "colab": {
          "base_uri": "https://localhost:8080/"
        },
        "id": "9J4WcOnVNum4",
        "outputId": "6badf226-6721-4c2a-9db1-2f7de41cb7c2"
      },
      "source": [
        "for i in range(len(list)):\n",
        "  list[i] = list[i] - mean\n",
        "for i in list:\n",
        "  a = i**2  \n",
        "sum = 0\n",
        "for i in list:\n",
        "  sum += i*i;\n",
        "  variance = sum/len(list)\n",
        "  print(\"variance:\", variance)\n",
        "\n"
      ],
      "execution_count": 20,
      "outputs": [
        {
          "output_type": "stream",
          "name": "stdout",
          "text": [
            "variance: 202.5\n",
            "variance: 325.0\n",
            "variance: 387.5\n",
            "variance: 410.0\n",
            "variance: 412.5\n",
            "variance: 415.0\n",
            "variance: 437.5\n",
            "variance: 500.0\n",
            "variance: 622.5\n",
            "variance: 825.0\n"
          ]
        }
      ]
    }
  ]
}